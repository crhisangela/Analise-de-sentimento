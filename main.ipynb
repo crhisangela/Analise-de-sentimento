{
 "cells": [
  {
   "cell_type": "markdown",
   "metadata": {},
   "source": [
    "## 0.0 Imports"
   ]
  },
  {
   "cell_type": "code",
   "execution_count": 246,
   "metadata": {},
   "outputs": [],
   "source": [
    "import pandas as pd\n",
    "import re\n",
    "import emoji\n",
    "from nltk.corpus import stopwords\n",
    "from nltk.tokenize import word_tokenize\n",
    "import numpy as np\n",
    "from collections import Counter\n"
   ]
  },
  {
   "cell_type": "markdown",
   "metadata": {},
   "source": [
    "## 1. Base de dados e Limpeza"
   ]
  },
  {
   "cell_type": "markdown",
   "metadata": {},
   "source": [
    "A base de dados foi extraída do Kaggl"
   ]
  },
  {
   "cell_type": "code",
   "execution_count": 247,
   "metadata": {},
   "outputs": [
    {
     "data": {
      "text/html": [
       "<div>\n",
       "<style scoped>\n",
       "    .dataframe tbody tr th:only-of-type {\n",
       "        vertical-align: middle;\n",
       "    }\n",
       "\n",
       "    .dataframe tbody tr th {\n",
       "        vertical-align: top;\n",
       "    }\n",
       "\n",
       "    .dataframe thead th {\n",
       "        text-align: right;\n",
       "    }\n",
       "</style>\n",
       "<table border=\"1\" class=\"dataframe\">\n",
       "  <thead>\n",
       "    <tr style=\"text-align: right;\">\n",
       "      <th></th>\n",
       "      <th>id</th>\n",
       "      <th>tweet_text</th>\n",
       "      <th>tweet_date</th>\n",
       "      <th>sentiment</th>\n",
       "      <th>query_used</th>\n",
       "    </tr>\n",
       "  </thead>\n",
       "  <tbody>\n",
       "    <tr>\n",
       "      <th>0</th>\n",
       "      <td>1031761728445530112</td>\n",
       "      <td>@Tixaa23 14 para eu ir :)</td>\n",
       "      <td>Tue Aug 21 04:35:39 +0000 2018</td>\n",
       "      <td>Positivo</td>\n",
       "      <td>:)</td>\n",
       "    </tr>\n",
       "    <tr>\n",
       "      <th>1</th>\n",
       "      <td>1031761040462278656</td>\n",
       "      <td>@drexalvarez O meu like eu já dei na época :)</td>\n",
       "      <td>Tue Aug 21 04:32:55 +0000 2018</td>\n",
       "      <td>Positivo</td>\n",
       "      <td>:)</td>\n",
       "    </tr>\n",
       "    <tr>\n",
       "      <th>2</th>\n",
       "      <td>1031760962372689920</td>\n",
       "      <td>Eu só queria conseguir comer alguma coisa pra ...</td>\n",
       "      <td>Tue Aug 21 04:32:37 +0000 2018</td>\n",
       "      <td>Positivo</td>\n",
       "      <td>:)</td>\n",
       "    </tr>\n",
       "    <tr>\n",
       "      <th>3</th>\n",
       "      <td>1031760948250456066</td>\n",
       "      <td>:D que lindo dia !</td>\n",
       "      <td>Tue Aug 21 04:32:33 +0000 2018</td>\n",
       "      <td>Positivo</td>\n",
       "      <td>:)</td>\n",
       "    </tr>\n",
       "    <tr>\n",
       "      <th>4</th>\n",
       "      <td>1031760895985246208</td>\n",
       "      <td>@Primo_Resmungao Pq da pr jeito!!é uma \"oferta...</td>\n",
       "      <td>Tue Aug 21 04:32:21 +0000 2018</td>\n",
       "      <td>Positivo</td>\n",
       "      <td>:)</td>\n",
       "    </tr>\n",
       "    <tr>\n",
       "      <th>...</th>\n",
       "      <td>...</td>\n",
       "      <td>...</td>\n",
       "      <td>...</td>\n",
       "      <td>...</td>\n",
       "      <td>...</td>\n",
       "    </tr>\n",
       "    <tr>\n",
       "      <th>785809</th>\n",
       "      <td>1050705141207367680</td>\n",
       "      <td>Acordar 8 horas é tão bom :)</td>\n",
       "      <td>Fri Oct 12 11:10:01 +0000 2018</td>\n",
       "      <td>Positivo</td>\n",
       "      <td>:)</td>\n",
       "    </tr>\n",
       "    <tr>\n",
       "      <th>785810</th>\n",
       "      <td>1050706655049109504</td>\n",
       "      <td>@mayckcunha Olá, Mayck. Você já é cliente Clar...</td>\n",
       "      <td>Fri Oct 12 11:16:02 +0000 2018</td>\n",
       "      <td>Positivo</td>\n",
       "      <td>:)</td>\n",
       "    </tr>\n",
       "    <tr>\n",
       "      <th>785811</th>\n",
       "      <td>1050705846907392005</td>\n",
       "      <td>Opa tava na merda mm e fiquei logo mais feliz ...</td>\n",
       "      <td>Fri Oct 12 11:12:49 +0000 2018</td>\n",
       "      <td>Positivo</td>\n",
       "      <td>:)</td>\n",
       "    </tr>\n",
       "    <tr>\n",
       "      <th>785812</th>\n",
       "      <td>1050705490232127489</td>\n",
       "      <td>@andrebraga2806 Foi como a tua lealdade :)</td>\n",
       "      <td>Fri Oct 12 11:11:24 +0000 2018</td>\n",
       "      <td>Positivo</td>\n",
       "      <td>:)</td>\n",
       "    </tr>\n",
       "    <tr>\n",
       "      <th>785813</th>\n",
       "      <td>1050704920922521601</td>\n",
       "      <td>Feliz dia das crianças!! De hoje e de ontem......</td>\n",
       "      <td>Fri Oct 12 11:09:08 +0000 2018</td>\n",
       "      <td>Positivo</td>\n",
       "      <td>:)</td>\n",
       "    </tr>\n",
       "  </tbody>\n",
       "</table>\n",
       "<p>785814 rows × 5 columns</p>\n",
       "</div>"
      ],
      "text/plain": [
       "                         id  \\\n",
       "0       1031761728445530112   \n",
       "1       1031761040462278656   \n",
       "2       1031760962372689920   \n",
       "3       1031760948250456066   \n",
       "4       1031760895985246208   \n",
       "...                     ...   \n",
       "785809  1050705141207367680   \n",
       "785810  1050706655049109504   \n",
       "785811  1050705846907392005   \n",
       "785812  1050705490232127489   \n",
       "785813  1050704920922521601   \n",
       "\n",
       "                                               tweet_text  \\\n",
       "0                               @Tixaa23 14 para eu ir :)   \n",
       "1           @drexalvarez O meu like eu já dei na época :)   \n",
       "2       Eu só queria conseguir comer alguma coisa pra ...   \n",
       "3                                      :D que lindo dia !   \n",
       "4       @Primo_Resmungao Pq da pr jeito!!é uma \"oferta...   \n",
       "...                                                   ...   \n",
       "785809                       Acordar 8 horas é tão bom :)   \n",
       "785810  @mayckcunha Olá, Mayck. Você já é cliente Clar...   \n",
       "785811  Opa tava na merda mm e fiquei logo mais feliz ...   \n",
       "785812         @andrebraga2806 Foi como a tua lealdade :)   \n",
       "785813  Feliz dia das crianças!! De hoje e de ontem......   \n",
       "\n",
       "                            tweet_date sentiment query_used  \n",
       "0       Tue Aug 21 04:35:39 +0000 2018  Positivo         :)  \n",
       "1       Tue Aug 21 04:32:55 +0000 2018  Positivo         :)  \n",
       "2       Tue Aug 21 04:32:37 +0000 2018  Positivo         :)  \n",
       "3       Tue Aug 21 04:32:33 +0000 2018  Positivo         :)  \n",
       "4       Tue Aug 21 04:32:21 +0000 2018  Positivo         :)  \n",
       "...                                ...       ...        ...  \n",
       "785809  Fri Oct 12 11:10:01 +0000 2018  Positivo         :)  \n",
       "785810  Fri Oct 12 11:16:02 +0000 2018  Positivo         :)  \n",
       "785811  Fri Oct 12 11:12:49 +0000 2018  Positivo         :)  \n",
       "785812  Fri Oct 12 11:11:24 +0000 2018  Positivo         :)  \n",
       "785813  Fri Oct 12 11:09:08 +0000 2018  Positivo         :)  \n",
       "\n",
       "[785814 rows x 5 columns]"
      ]
     },
     "execution_count": 247,
     "metadata": {},
     "output_type": "execute_result"
    }
   ],
   "source": [
    "df = pd.read_csv('data.csv')\n",
    "df"
   ]
  },
  {
   "cell_type": "code",
   "execution_count": 248,
   "metadata": {},
   "outputs": [
    {
     "name": "stdout",
     "output_type": "stream",
     "text": [
      "<class 'pandas.core.frame.DataFrame'>\n",
      "RangeIndex: 785814 entries, 0 to 785813\n",
      "Data columns (total 5 columns):\n",
      " #   Column      Non-Null Count   Dtype \n",
      "---  ------      --------------   ----- \n",
      " 0   id          785814 non-null  int64 \n",
      " 1   tweet_text  785814 non-null  object\n",
      " 2   tweet_date  785814 non-null  object\n",
      " 3   sentiment   785814 non-null  object\n",
      " 4   query_used  785814 non-null  object\n",
      "dtypes: int64(1), object(4)\n",
      "memory usage: 30.0+ MB\n"
     ]
    }
   ],
   "source": [
    "df.info()"
   ]
  },
  {
   "cell_type": "markdown",
   "metadata": {},
   "source": [
    "### 1.1. Diminuição da base"
   ]
  },
  {
   "cell_type": "code",
   "execution_count": 249,
   "metadata": {},
   "outputs": [
    {
     "data": {
      "text/html": [
       "<div>\n",
       "<style scoped>\n",
       "    .dataframe tbody tr th:only-of-type {\n",
       "        vertical-align: middle;\n",
       "    }\n",
       "\n",
       "    .dataframe tbody tr th {\n",
       "        vertical-align: top;\n",
       "    }\n",
       "\n",
       "    .dataframe thead th {\n",
       "        text-align: right;\n",
       "    }\n",
       "</style>\n",
       "<table border=\"1\" class=\"dataframe\">\n",
       "  <thead>\n",
       "    <tr style=\"text-align: right;\">\n",
       "      <th></th>\n",
       "      <th>id</th>\n",
       "      <th>tweet_text</th>\n",
       "      <th>tweet_date</th>\n",
       "      <th>sentiment</th>\n",
       "      <th>query_used</th>\n",
       "    </tr>\n",
       "  </thead>\n",
       "  <tbody>\n",
       "    <tr>\n",
       "      <th>0</th>\n",
       "      <td>1047352136202424320</td>\n",
       "      <td>o linux entrou :) depois que ele entra ele sim...</td>\n",
       "      <td>Wed Oct 03 05:06:22 +0000 2018</td>\n",
       "      <td>Positivo</td>\n",
       "      <td>:)</td>\n",
       "    </tr>\n",
       "    <tr>\n",
       "      <th>1</th>\n",
       "      <td>1031657254594981888</td>\n",
       "      <td>eu tenho a síndrome da existência sempre acho ...</td>\n",
       "      <td>Mon Aug 20 21:40:31 +0000 2018</td>\n",
       "      <td>Negativo</td>\n",
       "      <td>:(</td>\n",
       "    </tr>\n",
       "    <tr>\n",
       "      <th>2</th>\n",
       "      <td>1045447141882318853</td>\n",
       "      <td>oi apoiem meu video :)) https://t.co/ODjuL9UHLp</td>\n",
       "      <td>Thu Sep 27 22:56:36 +0000 2018</td>\n",
       "      <td>Positivo</td>\n",
       "      <td>:)</td>\n",
       "    </tr>\n",
       "    <tr>\n",
       "      <th>3</th>\n",
       "      <td>1031991144748601344</td>\n",
       "      <td>o brasil é complicadissimo :( https://t.co/CVS...</td>\n",
       "      <td>Tue Aug 21 19:47:17 +0000 2018</td>\n",
       "      <td>Negativo</td>\n",
       "      <td>:(</td>\n",
       "    </tr>\n",
       "    <tr>\n",
       "      <th>4</th>\n",
       "      <td>1042181437947109376</td>\n",
       "      <td>@S94GK Não... Já melhorei, bff. :(</td>\n",
       "      <td>Tue Sep 18 22:39:52 +0000 2018</td>\n",
       "      <td>Negativo</td>\n",
       "      <td>:(</td>\n",
       "    </tr>\n",
       "    <tr>\n",
       "      <th>...</th>\n",
       "      <td>...</td>\n",
       "      <td>...</td>\n",
       "      <td>...</td>\n",
       "      <td>...</td>\n",
       "      <td>...</td>\n",
       "    </tr>\n",
       "    <tr>\n",
       "      <th>3995</th>\n",
       "      <td>1045315889313136640</td>\n",
       "      <td>Dólar caiu :) - R$4,00 às 11:10</td>\n",
       "      <td>Thu Sep 27 14:15:03 +0000 2018</td>\n",
       "      <td>Positivo</td>\n",
       "      <td>:)</td>\n",
       "    </tr>\n",
       "    <tr>\n",
       "      <th>3996</th>\n",
       "      <td>1037332731364089857</td>\n",
       "      <td>@kcclxser oi sdv :)</td>\n",
       "      <td>Wed Sep 05 13:32:50 +0000 2018</td>\n",
       "      <td>Positivo</td>\n",
       "      <td>:)</td>\n",
       "    </tr>\n",
       "    <tr>\n",
       "      <th>3997</th>\n",
       "      <td>1031489543567036418</td>\n",
       "      <td>minha mãe faz questão de me irritar logo de ma...</td>\n",
       "      <td>Mon Aug 20 10:34:05 +0000 2018</td>\n",
       "      <td>Positivo</td>\n",
       "      <td>:)</td>\n",
       "    </tr>\n",
       "    <tr>\n",
       "      <th>3998</th>\n",
       "      <td>1030831061612339202</td>\n",
       "      <td>Pleno sábado e eu não sei o que fazer :(</td>\n",
       "      <td>Sat Aug 18 14:57:31 +0000 2018</td>\n",
       "      <td>Negativo</td>\n",
       "      <td>:(</td>\n",
       "    </tr>\n",
       "    <tr>\n",
       "      <th>3999</th>\n",
       "      <td>1032005091811897344</td>\n",
       "      <td>@_lindrya ai, é que a série foi cancelada, ent...</td>\n",
       "      <td>Tue Aug 21 20:42:42 +0000 2018</td>\n",
       "      <td>Negativo</td>\n",
       "      <td>:(</td>\n",
       "    </tr>\n",
       "  </tbody>\n",
       "</table>\n",
       "<p>4000 rows × 5 columns</p>\n",
       "</div>"
      ],
      "text/plain": [
       "                       id                                         tweet_text  \\\n",
       "0     1047352136202424320  o linux entrou :) depois que ele entra ele sim...   \n",
       "1     1031657254594981888  eu tenho a síndrome da existência sempre acho ...   \n",
       "2     1045447141882318853    oi apoiem meu video :)) https://t.co/ODjuL9UHLp   \n",
       "3     1031991144748601344  o brasil é complicadissimo :( https://t.co/CVS...   \n",
       "4     1042181437947109376                 @S94GK Não... Já melhorei, bff. :(   \n",
       "...                   ...                                                ...   \n",
       "3995  1045315889313136640                    Dólar caiu :) - R$4,00 às 11:10   \n",
       "3996  1037332731364089857                                @kcclxser oi sdv :)   \n",
       "3997  1031489543567036418  minha mãe faz questão de me irritar logo de ma...   \n",
       "3998  1030831061612339202           Pleno sábado e eu não sei o que fazer :(   \n",
       "3999  1032005091811897344  @_lindrya ai, é que a série foi cancelada, ent...   \n",
       "\n",
       "                          tweet_date sentiment query_used  \n",
       "0     Wed Oct 03 05:06:22 +0000 2018  Positivo         :)  \n",
       "1     Mon Aug 20 21:40:31 +0000 2018  Negativo         :(  \n",
       "2     Thu Sep 27 22:56:36 +0000 2018  Positivo         :)  \n",
       "3     Tue Aug 21 19:47:17 +0000 2018  Negativo         :(  \n",
       "4     Tue Sep 18 22:39:52 +0000 2018  Negativo         :(  \n",
       "...                              ...       ...        ...  \n",
       "3995  Thu Sep 27 14:15:03 +0000 2018  Positivo         :)  \n",
       "3996  Wed Sep 05 13:32:50 +0000 2018  Positivo         :)  \n",
       "3997  Mon Aug 20 10:34:05 +0000 2018  Positivo         :)  \n",
       "3998  Sat Aug 18 14:57:31 +0000 2018  Negativo         :(  \n",
       "3999  Tue Aug 21 20:42:42 +0000 2018  Negativo         :(  \n",
       "\n",
       "[4000 rows x 5 columns]"
      ]
     },
     "execution_count": 249,
     "metadata": {},
     "output_type": "execute_result"
    }
   ],
   "source": [
    "#Devido a base ter um tamanho muito grande (785814 instancias) e necessitar de muito tempo e memória para processamento, a base será diminuída a 1000 instancias, sendo 50% como positiva e 50% negativa\n",
    "\n",
    "# filtrar entre positivos e negativos\n",
    "positive = df[df['sentiment'] == 'Positivo']\n",
    "negative = df[df['sentiment'] == 'Negativo']\n",
    "\n",
    "# 500 instancias/linhas aleatórias de cada sentimento\n",
    "positive = positive.sample(n=2000, random_state=42)\n",
    "negative = negative.sample(n=2000, random_state=42)\n",
    "\n",
    "# juntar e embaralhar\n",
    "df = pd.concat([positive, negative])\n",
    "df = df.sample(frac=1, random_state=42).reset_index(drop=True)\n",
    "df"
   ]
  },
  {
   "cell_type": "markdown",
   "metadata": {},
   "source": [
    "### 1.2. Limpeza"
   ]
  },
  {
   "cell_type": "code",
   "execution_count": 250,
   "metadata": {},
   "outputs": [
    {
     "data": {
      "text/html": [
       "<div>\n",
       "<style scoped>\n",
       "    .dataframe tbody tr th:only-of-type {\n",
       "        vertical-align: middle;\n",
       "    }\n",
       "\n",
       "    .dataframe tbody tr th {\n",
       "        vertical-align: top;\n",
       "    }\n",
       "\n",
       "    .dataframe thead th {\n",
       "        text-align: right;\n",
       "    }\n",
       "</style>\n",
       "<table border=\"1\" class=\"dataframe\">\n",
       "  <thead>\n",
       "    <tr style=\"text-align: right;\">\n",
       "      <th></th>\n",
       "      <th>tweet_text</th>\n",
       "      <th>sentiment</th>\n",
       "    </tr>\n",
       "  </thead>\n",
       "  <tbody>\n",
       "    <tr>\n",
       "      <th>0</th>\n",
       "      <td>o linux entrou :) depois que ele entra ele sim...</td>\n",
       "      <td>Positivo</td>\n",
       "    </tr>\n",
       "    <tr>\n",
       "      <th>1</th>\n",
       "      <td>eu tenho a síndrome da existência sempre acho ...</td>\n",
       "      <td>Negativo</td>\n",
       "    </tr>\n",
       "    <tr>\n",
       "      <th>2</th>\n",
       "      <td>oi apoiem meu video :)) https://t.co/ODjuL9UHLp</td>\n",
       "      <td>Positivo</td>\n",
       "    </tr>\n",
       "    <tr>\n",
       "      <th>3</th>\n",
       "      <td>o brasil é complicadissimo :( https://t.co/CVS...</td>\n",
       "      <td>Negativo</td>\n",
       "    </tr>\n",
       "    <tr>\n",
       "      <th>4</th>\n",
       "      <td>@S94GK Não... Já melhorei, bff. :(</td>\n",
       "      <td>Negativo</td>\n",
       "    </tr>\n",
       "  </tbody>\n",
       "</table>\n",
       "</div>"
      ],
      "text/plain": [
       "                                          tweet_text sentiment\n",
       "0  o linux entrou :) depois que ele entra ele sim...  Positivo\n",
       "1  eu tenho a síndrome da existência sempre acho ...  Negativo\n",
       "2    oi apoiem meu video :)) https://t.co/ODjuL9UHLp  Positivo\n",
       "3  o brasil é complicadissimo :( https://t.co/CVS...  Negativo\n",
       "4                 @S94GK Não... Já melhorei, bff. :(  Negativo"
      ]
     },
     "execution_count": 250,
     "metadata": {},
     "output_type": "execute_result"
    }
   ],
   "source": [
    "# excluir colunas \"inuteis\"\n",
    "df = df.drop(columns=['id', 'tweet_date', 'query_used'], axis=True)\n",
    "df. head()"
   ]
  },
  {
   "cell_type": "code",
   "execution_count": 251,
   "metadata": {},
   "outputs": [
    {
     "data": {
      "text/html": [
       "<div>\n",
       "<style scoped>\n",
       "    .dataframe tbody tr th:only-of-type {\n",
       "        vertical-align: middle;\n",
       "    }\n",
       "\n",
       "    .dataframe tbody tr th {\n",
       "        vertical-align: top;\n",
       "    }\n",
       "\n",
       "    .dataframe thead th {\n",
       "        text-align: right;\n",
       "    }\n",
       "</style>\n",
       "<table border=\"1\" class=\"dataframe\">\n",
       "  <thead>\n",
       "    <tr style=\"text-align: right;\">\n",
       "      <th></th>\n",
       "      <th>tweet_text</th>\n",
       "      <th>sentiment</th>\n",
       "    </tr>\n",
       "  </thead>\n",
       "  <tbody>\n",
       "    <tr>\n",
       "      <th>0</th>\n",
       "      <td>o linux entrou  depois que ele entra ele simpl...</td>\n",
       "      <td>Positivo</td>\n",
       "    </tr>\n",
       "    <tr>\n",
       "      <th>1</th>\n",
       "      <td>eu tenho a sndrome da existncia sempre acho q ...</td>\n",
       "      <td>Negativo</td>\n",
       "    </tr>\n",
       "    <tr>\n",
       "      <th>2</th>\n",
       "      <td>oi apoiem meu video</td>\n",
       "      <td>Positivo</td>\n",
       "    </tr>\n",
       "    <tr>\n",
       "      <th>3</th>\n",
       "      <td>o brasil  complicadissimo</td>\n",
       "      <td>Negativo</td>\n",
       "    </tr>\n",
       "    <tr>\n",
       "      <th>4</th>\n",
       "      <td>no j melhorei bff</td>\n",
       "      <td>Negativo</td>\n",
       "    </tr>\n",
       "  </tbody>\n",
       "</table>\n",
       "</div>"
      ],
      "text/plain": [
       "                                          tweet_text sentiment\n",
       "0  o linux entrou  depois que ele entra ele simpl...  Positivo\n",
       "1  eu tenho a sndrome da existncia sempre acho q ...  Negativo\n",
       "2                              oi apoiem meu video    Positivo\n",
       "3                        o brasil  complicadissimo    Negativo\n",
       "4                                 no j melhorei bff   Negativo"
      ]
     },
     "execution_count": 251,
     "metadata": {},
     "output_type": "execute_result"
    }
   ],
   "source": [
    "# funções para limpeza de texto\n",
    "\n",
    "def remove_emoji(text):\n",
    "    return ''.join(char for char in text if not emoji.is_emoji(char))\n",
    "\n",
    "def remove_emoticons(text):\n",
    "    emoticon_regex = re.compile(r'[:;=][\\)\\(\\[dDpP]|[\\)\\(\\[dDpP][:;=]|<3|:\\'\\(|:\\'\\)|:o|:O|:\\|')\n",
    "    return emoticon_regex.sub('', text)\n",
    "\n",
    "def remove_links(text):\n",
    "    link_regex = re.compile(r'http\\S+|www\\S+')\n",
    "    return link_regex.sub('', text)\n",
    "\n",
    "def remove_usernames(text):\n",
    "    return re.sub(r'@\\w+', '', text)\n",
    "\n",
    "def remove_special_chars(text):\n",
    "    special_chars_regex = re.compile(r'[^A-Za-z0-9\\s]')\n",
    "    return special_chars_regex.sub('', text)\n",
    "\n",
    "def clean_text(text):\n",
    "    text = remove_emoji(text)\n",
    "    text = remove_emoticons(text)\n",
    "    text = remove_links(text)\n",
    "    text = remove_usernames(text)\n",
    "    text = remove_special_chars(text)\n",
    "    text = text.lower()\n",
    "    \n",
    "    return text\n",
    "\n",
    "df['tweet_text'] = df['tweet_text'].apply(clean_text)\n",
    "df.head()\n"
   ]
  },
  {
   "cell_type": "markdown",
   "metadata": {},
   "source": [
    "### 1.3 Tokenização"
   ]
  },
  {
   "cell_type": "code",
   "execution_count": 252,
   "metadata": {},
   "outputs": [],
   "source": [
    "def preprocess_text(text):\n",
    "    # Tokenizar o texto\n",
    "    tokens = word_tokenize(text, language='portuguese')\n",
    "    # Remove stopwords\n",
    "    stop_words = set(stopwords.words('portuguese'))\n",
    "    filtered_tokens = [word for word in tokens if word not in stop_words]\n",
    "    return ' '.join(filtered_tokens)\n",
    "\n",
    "df['tweet_text'] = df['tweet_text'].apply(preprocess_text)"
   ]
  },
  {
   "cell_type": "markdown",
   "metadata": {},
   "source": [
    "## 2. Separação de treino e teste"
   ]
  },
  {
   "cell_type": "code",
   "execution_count": 253,
   "metadata": {},
   "outputs": [],
   "source": [
    "from sklearn.model_selection import StratifiedKFold\n",
    "from sklearn.feature_extraction.text import CountVectorizer\n",
    "from sklearn.pipeline import make_pipeline\n",
    "\n",
    "\n",
    "# Separar os dados em variáveis independentes (X) e dependentes (y) (features e target)\n",
    "X = df['tweet_text']\n",
    "y = df['sentiment']\n",
    "\n",
    "# configuração de k=10\n",
    "cv = StratifiedKFold(n_splits=10, shuffle=True, random_state=42)\n"
   ]
  },
  {
   "cell_type": "markdown",
   "metadata": {},
   "source": [
    "## 3. Modelos e métrica de desempenho"
   ]
  },
  {
   "cell_type": "markdown",
   "metadata": {},
   "source": [
    "### 3.1. Funções acessórios"
   ]
  },
  {
   "cell_type": "code",
   "execution_count": 254,
   "metadata": {},
   "outputs": [],
   "source": [
    "from sklearn.model_selection import cross_validate\n",
    "from sklearn.metrics import make_scorer, accuracy_score\n",
    "from sklearn.pipeline import Pipeline\n",
    "\n",
    "\n",
    "# função que roda o modelo e calcula métricas\n",
    "def evaluate_model(model, X, y, cv):\n",
    "    \n",
    "    scoring = {\n",
    "        'accuracy': 'accuracy',\n",
    "        'precision': 'precision_weighted',\n",
    "        'recall': 'recall_weighted',\n",
    "        'f1': 'f1_weighted',\n",
    "        'error': make_scorer(lambda y_true, y_pred: 1 - accuracy_score(y_true, y_pred))  # Cálculo do erro como 1 - acurácia\n",
    "    }\n",
    "\n",
    "    # validação cruzada\n",
    "    results = cross_validate(model, X, y, cv=cv, scoring=scoring)\n",
    "\n",
    "    # métricas de desempenho\n",
    "    metrics = {\n",
    "        'Acurácia': results['test_accuracy'].mean(),\n",
    "        'Precisão': results['test_precision'].mean(),\n",
    "        'Recall': results['test_recall'].mean(),\n",
    "        'F1 Score': results['test_f1'].mean(),\n",
    "        'Erro': results['test_error'].mean()\n",
    "    }\n",
    "\n",
    "    metrics_df = pd.DataFrame([metrics]).T\n",
    "    return metrics_df"
   ]
  },
  {
   "cell_type": "markdown",
   "metadata": {},
   "source": [
    "### 3.2. Regressão Logística"
   ]
  },
  {
   "cell_type": "code",
   "execution_count": 255,
   "metadata": {},
   "outputs": [
    {
     "name": "stdout",
     "output_type": "stream",
     "text": [
      "                 0\n",
      "Acurácia  0.640500\n",
      "Precisão  0.642793\n",
      "Recall    0.640500\n",
      "F1 Score  0.639010\n",
      "Erro      0.359500\n"
     ]
    }
   ],
   "source": [
    "from sklearn.linear_model import LogisticRegression\n",
    "from sklearn.preprocessing import StandardScaler\n",
    "\n",
    "\n",
    "reg_pipeline = make_pipeline(\n",
    "    CountVectorizer(),\n",
    "    StandardScaler(with_mean=False), \n",
    "    LogisticRegression(max_iter=2000)\n",
    ")\n",
    "\n",
    "metrics_df = evaluate_model(reg_pipeline, X, y, cv)\n",
    "print(metrics_df)"
   ]
  },
  {
   "cell_type": "markdown",
   "metadata": {},
   "source": [
    "### 3.3. Naive Bayes"
   ]
  },
  {
   "cell_type": "code",
   "execution_count": 256,
   "metadata": {},
   "outputs": [
    {
     "name": "stdout",
     "output_type": "stream",
     "text": [
      "                 0\n",
      "Acurácia  0.699000\n",
      "Precisão  0.705816\n",
      "Recall    0.699000\n",
      "F1 Score  0.696447\n",
      "Erro      0.301000\n"
     ]
    }
   ],
   "source": [
    "from sklearn.naive_bayes import MultinomialNB\n",
    "\n",
    "nb_pipeline = Pipeline([\n",
    "    ('vect', CountVectorizer()),  #vetoriza os dados\n",
    "    ('clf', MultinomialNB())     \n",
    "])\n",
    "\n",
    "metrics_df = evaluate_model(nb_pipeline, X, y, cv)\n",
    "print(metrics_df)"
   ]
  },
  {
   "cell_type": "markdown",
   "metadata": {},
   "source": [
    "### 3.4. SVM"
   ]
  },
  {
   "cell_type": "code",
   "execution_count": 257,
   "metadata": {},
   "outputs": [
    {
     "name": "stdout",
     "output_type": "stream",
     "text": [
      "                 0\n",
      "Acurácia  0.674500\n",
      "Precisão  0.676101\n",
      "Recall    0.674500\n",
      "F1 Score  0.673676\n",
      "Erro      0.325500\n"
     ]
    }
   ],
   "source": [
    "from sklearn.svm import SVC\n",
    "\n",
    "svm_pipeline = Pipeline([\n",
    "    ('vect', CountVectorizer()),   #vetoriza os dados\n",
    "    ('clf', SVC(kernel='linear'))    \n",
    "])\n",
    "\n",
    "metrics_df = evaluate_model(svm_pipeline, X, y, cv)\n",
    "print(metrics_df)"
   ]
  },
  {
   "cell_type": "markdown",
   "metadata": {},
   "source": [
    "### 3.5. Árvore de Decisão"
   ]
  },
  {
   "cell_type": "code",
   "execution_count": 258,
   "metadata": {},
   "outputs": [
    {
     "name": "stdout",
     "output_type": "stream",
     "text": [
      "                 0\n",
      "Acurácia  0.624000\n",
      "Precisão  0.630853\n",
      "Recall    0.624000\n",
      "F1 Score  0.618507\n",
      "Erro      0.376000\n"
     ]
    }
   ],
   "source": [
    "from sklearn.tree import DecisionTreeClassifier\n",
    "\n",
    "dt_pipeline = Pipeline([\n",
    "    ('vect', CountVectorizer()),  #vetoriza os dados\n",
    "    ('clf', DecisionTreeClassifier())      \n",
    "])\n",
    "\n",
    "metrics_df = evaluate_model(dt_pipeline, X, y, cv)\n",
    "print(metrics_df)"
   ]
  },
  {
   "cell_type": "markdown",
   "metadata": {},
   "source": [
    "### 3.6. Random Forest"
   ]
  },
  {
   "cell_type": "code",
   "execution_count": 259,
   "metadata": {},
   "outputs": [
    {
     "name": "stdout",
     "output_type": "stream",
     "text": [
      "                 0\n",
      "Acurácia  0.679000\n",
      "Precisão  0.685971\n",
      "Recall    0.679000\n",
      "F1 Score  0.675627\n",
      "Erro      0.321000\n"
     ]
    }
   ],
   "source": [
    "from sklearn.ensemble import RandomForestClassifier\n",
    "\n",
    "rf_pipeline = Pipeline([\n",
    "    ('vect', CountVectorizer()), #vetoriza os dados\n",
    "    ('clf', RandomForestClassifier(n_estimators=100, random_state=42))      #aplica algoritmo\n",
    "])\n",
    "\n",
    "metrics_df = evaluate_model(rf_pipeline, X, y, cv)\n",
    "print(metrics_df)"
   ]
  },
  {
   "cell_type": "markdown",
   "metadata": {},
   "source": [
    "### 3.7. KNN"
   ]
  },
  {
   "cell_type": "code",
   "execution_count": 261,
   "metadata": {},
   "outputs": [
    {
     "data": {
      "text/html": [
       "<div>\n",
       "<style scoped>\n",
       "    .dataframe tbody tr th:only-of-type {\n",
       "        vertical-align: middle;\n",
       "    }\n",
       "\n",
       "    .dataframe tbody tr th {\n",
       "        vertical-align: top;\n",
       "    }\n",
       "\n",
       "    .dataframe thead th {\n",
       "        text-align: right;\n",
       "    }\n",
       "</style>\n",
       "<table border=\"1\" class=\"dataframe\">\n",
       "  <thead>\n",
       "    <tr style=\"text-align: right;\">\n",
       "      <th></th>\n",
       "      <th>0</th>\n",
       "    </tr>\n",
       "  </thead>\n",
       "  <tbody>\n",
       "    <tr>\n",
       "      <th>Acurácia</th>\n",
       "      <td>0.580000</td>\n",
       "    </tr>\n",
       "    <tr>\n",
       "      <th>Precisão</th>\n",
       "      <td>0.587176</td>\n",
       "    </tr>\n",
       "    <tr>\n",
       "      <th>Recall</th>\n",
       "      <td>0.580000</td>\n",
       "    </tr>\n",
       "    <tr>\n",
       "      <th>F1 Score</th>\n",
       "      <td>0.570712</td>\n",
       "    </tr>\n",
       "    <tr>\n",
       "      <th>Erro</th>\n",
       "      <td>0.420000</td>\n",
       "    </tr>\n",
       "  </tbody>\n",
       "</table>\n",
       "</div>"
      ],
      "text/plain": [
       "                 0\n",
       "Acurácia  0.580000\n",
       "Precisão  0.587176\n",
       "Recall    0.580000\n",
       "F1 Score  0.570712\n",
       "Erro      0.420000"
      ]
     },
     "execution_count": 261,
     "metadata": {},
     "output_type": "execute_result"
    }
   ],
   "source": [
    "\n",
    "from sklearn.base import BaseEstimator, ClassifierMixin\n",
    "from collections import Counter\n",
    "import numpy as np\n",
    "\n",
    "# cria um classificador KNN\n",
    "class CustomKNNClassifier(BaseEstimator, ClassifierMixin):\n",
    "    def __init__(self, k=3):\n",
    "        # define o numero de vizinhos\n",
    "        self.k = k\n",
    "    \n",
    "    def fit(self, X, y):\n",
    "        self.X_train = X\n",
    "        self.y_train = y if isinstance(y, np.ndarray) else y.values\n",
    "        self.classes_ = np.unique(self.y_train)\n",
    "        return self\n",
    "    \n",
    "    def euclidean_distance(self, x1, x2):\n",
    "        # calcula a distância Euclidiana e converte forem matrizes esparsas em arrays densos\n",
    "        x1_dense = x1.toarray() if hasattr(x1, 'toarray') else x1\n",
    "        x2_dense = x2.toarray() if hasattr(x2, 'toarray') else x2\n",
    "        return np.sqrt(np.sum((x1_dense - x2_dense) ** 2))\n",
    "    \n",
    "    def predict(self, X):\n",
    "        predictions = []\n",
    "        for test_point in X:\n",
    "            # Calcula a distância entre teste e treino\n",
    "            distances = [self.euclidean_distance(test_point, x) for x in self.X_train]\n",
    "            k_indices = np.argsort(distances)[:self.k]\n",
    "            k_nearest_labels = [self.y_train[i] for i in k_indices]\n",
    "            most_common = Counter(k_nearest_labels).most_common(1)\n",
    "            predictions.append(most_common[0][0])\n",
    "        return np.array(predictions)  # Retorna as previsões como um array\n",
    "\n",
    "knn_pipeline = Pipeline([\n",
    "    ('vect', CountVectorizer()),\n",
    "    ('clf', CustomKNNClassifier(k=3))\n",
    "])\n",
    "\n",
    "metrics_df = evaluate_model(knn_pipeline, X, y, cv)\n",
    "metrics_df"
   ]
  },
  {
   "cell_type": "markdown",
   "metadata": {},
   "source": [
    "### 3.8. Comitê"
   ]
  },
  {
   "cell_type": "code",
   "execution_count": 265,
   "metadata": {},
   "outputs": [
    {
     "name": "stdout",
     "output_type": "stream",
     "text": [
      "Pesos calculados: [0.17936874518860663, 0.1601231716705158, 0.17423659225044907, 0.16435719784449576, 0.1730818578393636, 0.14883243520656916]\n"
     ]
    }
   ],
   "source": [
    "def weights(acuracias):\n",
    "    total_acuracia = sum(acuracias)\n",
    "    pesos = [acuracia / total_acuracia for acuracia in acuracias]\n",
    "    return pesos\n",
    "\n",
    "acuracias = [0.699000, 0.624000, 0.679000, 0.640500, 0.674500, 0.580000]  # Acurácias dos classificadores\n",
    "weights = weights(acuracias)\n",
    "print(\"Pesos calculados:\", weights)"
   ]
  },
  {
   "cell_type": "code",
   "execution_count": 266,
   "metadata": {},
   "outputs": [
    {
     "name": "stdout",
     "output_type": "stream",
     "text": [
      "                 0\n",
      "Acurácia  0.694250\n",
      "Precisão  0.699489\n",
      "Recall    0.694250\n",
      "F1 Score  0.691950\n",
      "Erro      0.305750\n"
     ]
    }
   ],
   "source": [
    "from sklearn.ensemble import VotingClassifier\n",
    "\n",
    "# rodar o comitê com todos os algoritmos atribuindo pesos pra cada algoritmo\n",
    "ensemble_model = VotingClassifier(estimators=[\n",
    "    ('gnb', nb_pipeline),\n",
    "    ('dt', dt_pipeline),\n",
    "    ('rf', rf_pipeline),\n",
    "    ('lr', reg_pipeline),\n",
    "    ('svm', svm_pipeline),\n",
    "    ('knn', knn_pipeline)\n",
    "],    voting='hard', \n",
    "    weights=pesos)  \n",
    "\n",
    "\n",
    "metrics_df = evaluate_model(ensemble_model, X, y, cv)\n",
    "metrics_df"
   ]
  },
  {
   "cell_type": "code",
   "execution_count": 271,
   "metadata": {},
   "outputs": [
    {
     "data": {
      "text/html": [
       "<div>\n",
       "<style scoped>\n",
       "    .dataframe tbody tr th:only-of-type {\n",
       "        vertical-align: middle;\n",
       "    }\n",
       "\n",
       "    .dataframe tbody tr th {\n",
       "        vertical-align: top;\n",
       "    }\n",
       "\n",
       "    .dataframe thead th {\n",
       "        text-align: right;\n",
       "    }\n",
       "</style>\n",
       "<table border=\"1\" class=\"dataframe\">\n",
       "  <thead>\n",
       "    <tr style=\"text-align: right;\">\n",
       "      <th></th>\n",
       "      <th>Algoritmo</th>\n",
       "      <th>Acurácia</th>\n",
       "      <th>Precisão</th>\n",
       "      <th>Recall</th>\n",
       "      <th>F1 Score</th>\n",
       "      <th>Erro</th>\n",
       "    </tr>\n",
       "  </thead>\n",
       "  <tbody>\n",
       "    <tr>\n",
       "      <th>0</th>\n",
       "      <td>Naive Bayes</td>\n",
       "      <td>0.6990</td>\n",
       "      <td>0.705816</td>\n",
       "      <td>0.6990</td>\n",
       "      <td>0.696447</td>\n",
       "      <td>0.3010</td>\n",
       "    </tr>\n",
       "    <tr>\n",
       "      <th>1</th>\n",
       "      <td>SVM</td>\n",
       "      <td>0.6745</td>\n",
       "      <td>0.676101</td>\n",
       "      <td>0.6745</td>\n",
       "      <td>0.673676</td>\n",
       "      <td>0.3255</td>\n",
       "    </tr>\n",
       "    <tr>\n",
       "      <th>2</th>\n",
       "      <td>Árvore de Decisão</td>\n",
       "      <td>0.6240</td>\n",
       "      <td>0.630853</td>\n",
       "      <td>0.6240</td>\n",
       "      <td>0.618507</td>\n",
       "      <td>0.3760</td>\n",
       "    </tr>\n",
       "    <tr>\n",
       "      <th>3</th>\n",
       "      <td>Random Forest</td>\n",
       "      <td>0.6790</td>\n",
       "      <td>0.685971</td>\n",
       "      <td>0.6790</td>\n",
       "      <td>0.675627</td>\n",
       "      <td>0.3210</td>\n",
       "    </tr>\n",
       "    <tr>\n",
       "      <th>4</th>\n",
       "      <td>Regressão Logística</td>\n",
       "      <td>0.6405</td>\n",
       "      <td>0.642793</td>\n",
       "      <td>0.6405</td>\n",
       "      <td>0.639010</td>\n",
       "      <td>0.3595</td>\n",
       "    </tr>\n",
       "    <tr>\n",
       "      <th>5</th>\n",
       "      <td>KNN</td>\n",
       "      <td>0.5800</td>\n",
       "      <td>0.587176</td>\n",
       "      <td>0.5800</td>\n",
       "      <td>0.570712</td>\n",
       "      <td>0.4200</td>\n",
       "    </tr>\n",
       "    <tr>\n",
       "      <th>6</th>\n",
       "      <td>Comitê</td>\n",
       "      <td>0.6940</td>\n",
       "      <td>0.699000</td>\n",
       "      <td>0.6940</td>\n",
       "      <td>0.691000</td>\n",
       "      <td>0.3050</td>\n",
       "    </tr>\n",
       "  </tbody>\n",
       "</table>\n",
       "</div>"
      ],
      "text/plain": [
       "             Algoritmo  Acurácia  Precisão  Recall  F1 Score    Erro\n",
       "0          Naive Bayes    0.6990  0.705816  0.6990  0.696447  0.3010\n",
       "1                  SVM    0.6745  0.676101  0.6745  0.673676  0.3255\n",
       "2    Árvore de Decisão    0.6240  0.630853  0.6240  0.618507  0.3760\n",
       "3        Random Forest    0.6790  0.685971  0.6790  0.675627  0.3210\n",
       "4  Regressão Logística    0.6405  0.642793  0.6405  0.639010  0.3595\n",
       "5                  KNN    0.5800  0.587176  0.5800  0.570712  0.4200\n",
       "6               Comitê    0.6940  0.699000  0.6940  0.691000  0.3050"
      ]
     },
     "execution_count": 271,
     "metadata": {},
     "output_type": "execute_result"
    }
   ],
   "source": [
    "# criando visão em tabela\n",
    "dados = {\n",
    "    'Algoritmo': ['Naive Bayes', 'SVM', 'Árvore de Decisão', 'Random Forest', 'Regressão Logística', 'KNN', 'Comitê'],\n",
    "    'Acurácia': [0.699, 0.6745, 0.624, 0.679, 0.6405, 0.58, 0.694],\n",
    "    'Precisão': [0.705816, 0.676101, 0.630853, 0.685971, 0.642793, 0.587176, 0.699],\n",
    "    'Recall': [0.699, 0.6745, 0.624, 0.679, 0.6405, 0.58, 0.694],\n",
    "    'F1 Score': [0.696447, 0.673676, 0.618507, 0.675627, 0.63901, 0.570712, 0.691],\n",
    "    'Erro': [0.301, 0.3255, 0.376, 0.321, 0.3595, 0.42, 0.305]\n",
    "}\n",
    "\n",
    "table = pd.DataFrame(dados)\n",
    "table"
   ]
  }
 ],
 "metadata": {
  "kernelspec": {
   "display_name": "Python 3",
   "language": "python",
   "name": "python3"
  },
  "language_info": {
   "codemirror_mode": {
    "name": "ipython",
    "version": 3
   },
   "file_extension": ".py",
   "mimetype": "text/x-python",
   "name": "python",
   "nbconvert_exporter": "python",
   "pygments_lexer": "ipython3",
   "version": "3.10.10"
  }
 },
 "nbformat": 4,
 "nbformat_minor": 2
}
